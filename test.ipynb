{
 "cells": [
  {
   "cell_type": "code",
   "execution_count": 3,
   "id": "2c3b627a",
   "metadata": {},
   "outputs": [],
   "source": [
    "import numpy as np"
   ]
  },
  {
   "cell_type": "code",
   "execution_count": 7,
   "id": "80bd1c81",
   "metadata": {},
   "outputs": [],
   "source": [
    "a = np.array([\n",
    "    [10.5, 11.1,],\n",
    "    [12.8, 13.5,]\n",
    "])    \n",
    "\n",
    "b = np.array([\n",
    "    [1.2],\n",
    "    [2.3],\n",
    "])"
   ]
  },
  {
   "cell_type": "code",
   "execution_count": 8,
   "id": "12cb9d15",
   "metadata": {},
   "outputs": [
    {
     "data": {
      "text/plain": [
       "array([[38.13],\n",
       "       [46.41]])"
      ]
     },
     "execution_count": 8,
     "metadata": {},
     "output_type": "execute_result"
    }
   ],
   "source": [
    "np.dot(a, b)"
   ]
  },
  {
   "cell_type": "code",
   "execution_count": 3,
   "id": "9161bfcc",
   "metadata": {},
   "outputs": [
    {
     "name": "stdout",
     "output_type": "stream",
     "text": [
      "Time taken for 5x5 * 5x5 multiplication: 0.00 µs\n",
      "Result matrix:\n",
      "[[0.]\n",
      " [0.]\n",
      " [0.]\n",
      " [0.]\n",
      " [0.]\n",
      " [0.]\n",
      " [0.]\n",
      " [0.]\n",
      " [0.]\n",
      " [0.]\n",
      " [0.]\n",
      " [0.]\n",
      " [0.]\n",
      " [0.]\n",
      " [0.]\n",
      " [0.]]\n"
     ]
    }
   ],
   "source": [
    "import numpy as np\n",
    "import time\n",
    "\n",
    "size = 5\n",
    "\n",
    "# Matrix A: A[i][j] = i + j\n",
    "A = np.fromfunction(lambda i, j: i + j, (16, 28*28), dtype=float)\n",
    "\n",
    "# Matrix B: B[i][j] = i * j (you can use any pattern here)\n",
    "B = np.fromfunction(lambda i, j: i * j, (28*28, 1), dtype=float)\n",
    "\n",
    "# Time the multiplication\n",
    "start = time.time()\n",
    "\n",
    "result = A @ B  # Matrix × Matrix multiplication\n",
    "\n",
    "end = time.time()\n",
    "elapsed = (end - start) * 1e6  # microseconds\n",
    "\n",
    "print(f\"Time taken for {size}x{size} * {size}x{size} multiplication: {elapsed:.2f} µs\")\n",
    "\n",
    "# Show result matrix\n",
    "print(\"Result matrix:\")\n",
    "print(result)\n"
   ]
  },
  {
   "cell_type": "code",
   "execution_count": 14,
   "id": "ca5eefb6",
   "metadata": {},
   "outputs": [
    {
     "name": "stdout",
     "output_type": "stream",
     "text": [
      "[[0.77395605 0.43887844 0.85859792]\n",
      " [0.69736803 0.09417735 0.97562235]\n",
      " [0.7611397  0.78606431 0.12811363]]\n"
     ]
    }
   ],
   "source": [
    "import numpy as np\n",
    "\n",
    "def generate_tensor(rows, cols, seed=42):\n",
    "    rng = np.random.Generator(np.random.PCG64(seed))\n",
    "    data = rng.random((rows, cols))  # Uniform [0.0, 1.0)\n",
    "    return data\n",
    "\n",
    "# Example\n",
    "tensor = generate_tensor(3, 3, seed=42)\n",
    "print(tensor)"
   ]
  }
 ],
 "metadata": {
  "kernelspec": {
   "display_name": "lu-lab",
   "language": "python",
   "name": "python3"
  },
  "language_info": {
   "codemirror_mode": {
    "name": "ipython",
    "version": 3
   },
   "file_extension": ".py",
   "mimetype": "text/x-python",
   "name": "python",
   "nbconvert_exporter": "python",
   "pygments_lexer": "ipython3",
   "version": "3.10.16"
  }
 },
 "nbformat": 4,
 "nbformat_minor": 5
}
