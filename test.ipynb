{
 "cells": [
  {
   "cell_type": "code",
   "execution_count": 3,
   "id": "2c3b627a",
   "metadata": {},
   "outputs": [],
   "source": [
    "import numpy as np"
   ]
  },
  {
   "cell_type": "code",
   "execution_count": 7,
   "id": "80bd1c81",
   "metadata": {},
   "outputs": [],
   "source": [
    "a = np.array([\n",
    "    [10.5, 11.1,],\n",
    "    [12.8, 13.5,]\n",
    "])    \n",
    "\n",
    "b = np.array([\n",
    "    [1.2],\n",
    "    [2.3],\n",
    "])"
   ]
  },
  {
   "cell_type": "code",
   "execution_count": 8,
   "id": "12cb9d15",
   "metadata": {},
   "outputs": [
    {
     "data": {
      "text/plain": [
       "array([[38.13],\n",
       "       [46.41]])"
      ]
     },
     "execution_count": 8,
     "metadata": {},
     "output_type": "execute_result"
    }
   ],
   "source": [
    "np.dot(a, b)"
   ]
  },
  {
   "cell_type": "code",
   "execution_count": 21,
   "id": "9161bfcc",
   "metadata": {},
   "outputs": [
    {
     "name": "stdout",
     "output_type": "stream",
     "text": [
      "Time taken for 100x100 * 100x1 multiplication: 0.00 µs\n",
      "First 10 results:\n",
      "333333000.00\n",
      "333833500.00\n",
      "334334000.00\n",
      "334834500.00\n",
      "335335000.00\n",
      "335835500.00\n",
      "336336000.00\n",
      "336836500.00\n",
      "337337000.00\n",
      "337837500.00\n"
     ]
    }
   ],
   "source": [
    "import numpy as np\n",
    "import time\n",
    "\n",
    "size = 1000\n",
    "\n",
    "# A[i][j] = i + j\n",
    "A = np.fromfunction(lambda i, j: i + j, (size, size), dtype=float)\n",
    "\n",
    "# B[j] = j + 1\n",
    "B = np.arange(1, size + 1).reshape((size, 1))\n",
    "\n",
    "# Time the multiplication\n",
    "start = time.time()\n",
    "\n",
    "result = A @ B  # Matrix-vector multiplication\n",
    "\n",
    "end = time.time()\n",
    "elapsed = (end - start) * 1e6  # microseconds\n",
    "\n",
    "print(f\"Time taken for 100x100 * 100x1 multiplication: {elapsed:.2f} µs\")\n",
    "\n",
    "# Show first 10 results\n",
    "print(\"First 10 results:\")\n",
    "for val in result[:10]:\n",
    "    print(f\"{val[0]:.2f}\")\n"
   ]
  }
 ],
 "metadata": {
  "kernelspec": {
   "display_name": "lu-lab",
   "language": "python",
   "name": "python3"
  },
  "language_info": {
   "codemirror_mode": {
    "name": "ipython",
    "version": 3
   },
   "file_extension": ".py",
   "mimetype": "text/x-python",
   "name": "python",
   "nbconvert_exporter": "python",
   "pygments_lexer": "ipython3",
   "version": "3.10.16"
  }
 },
 "nbformat": 4,
 "nbformat_minor": 5
}
